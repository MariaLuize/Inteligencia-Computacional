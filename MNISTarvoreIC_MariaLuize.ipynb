{
  "nbformat": 4,
  "nbformat_minor": 0,
  "metadata": {
    "colab": {
      "name": "MNISTarvoreIC_MariaLuize.ipynb",
      "provenance": [],
      "collapsed_sections": [],
      "include_colab_link": true
    },
    "kernelspec": {
      "name": "python3",
      "display_name": "Python 3"
    },
    "accelerator": "GPU"
  },
  "cells": [
    {
      "cell_type": "markdown",
      "metadata": {
        "id": "view-in-github",
        "colab_type": "text"
      },
      "source": [
        "<a href=\"https://colab.research.google.com/github/MariaLuize/Inteligencia-Computacional/blob/main/MNISTarvoreIC_MariaLuize.ipynb\" target=\"_parent\"><img src=\"https://colab.research.google.com/assets/colab-badge.svg\" alt=\"Open In Colab\"/></a>"
      ]
    },
    {
      "cell_type": "markdown",
      "metadata": {
        "id": "tQc8wtUOxBu8"
      },
      "source": [
        "**Aluna: Maria Luize Silva Pinheiro**\n"
      ]
    },
    {
      "cell_type": "code",
      "metadata": {
        "id": "k2hYgLZTqV8s"
      },
      "source": [
        "import matplotlib as mpl\n",
        "import matplotlib.pyplot as plt \n",
        "import seaborn as sns\n",
        "import numpy as np\n",
        "import os\n",
        "import sklearn\n",
        "from sklearn.model_selection import train_test_split\n",
        "from sklearn.model_selection import RandomizedSearchCV, GridSearchCV \n",
        "# from sklearn.model_selection import cross_val_score\n",
        "from pprint import pprint\n",
        " \n",
        "%matplotlib inline"
      ],
      "execution_count": null,
      "outputs": []
    },
    {
      "cell_type": "code",
      "metadata": {
        "id": "D6xrF3R2rEIb",
        "outputId": "dd118d5d-6acd-4bfb-9ab0-d49574e75796",
        "colab": {
          "base_uri": "https://localhost:8080/"
        }
      },
      "source": [
        "from sklearn.datasets import fetch_openml\n",
        "mnist = fetch_openml('mnist_784', version=1)\n",
        "mnist.keys() # dictionary structure"
      ],
      "execution_count": null,
      "outputs": [
        {
          "output_type": "execute_result",
          "data": {
            "text/plain": [
              "dict_keys(['data', 'target', 'frame', 'feature_names', 'target_names', 'DESCR', 'details', 'categories', 'url'])"
            ]
          },
          "metadata": {
            "tags": []
          },
          "execution_count": 2
        }
      ]
    },
    {
      "cell_type": "code",
      "metadata": {
        "id": "uYZAnBrzrc6G",
        "outputId": "08f949a5-d4bf-4633-9dc1-6f1fe826d45f",
        "colab": {
          "base_uri": "https://localhost:8080/"
        }
      },
      "source": [
        "X, y = mnist[\"data\"], mnist[\"target\"]\n",
        "y = y.astype(np.uint8)\n",
        "X.shape #shape of the data - There are 70,000 images, and each image has 784 features."
      ],
      "execution_count": null,
      "outputs": [
        {
          "output_type": "execute_result",
          "data": {
            "text/plain": [
              "(70000, 784)"
            ]
          },
          "metadata": {
            "tags": []
          },
          "execution_count": 3
        }
      ]
    },
    {
      "cell_type": "code",
      "metadata": {
        "id": "cXh5PpTYrtQ-",
        "outputId": "45eb2fbe-c64d-42f0-e5e8-9362dad5be1f",
        "colab": {
          "base_uri": "https://localhost:8080/",
          "height": 265
        }
      },
      "source": [
        "some_digit = X[50] #grab an instance’s feature vector\n",
        "some_digit_image = some_digit.reshape(28, 28) #reshape it to a 28 × 28 array\n",
        "plt.imshow(some_digit_image, cmap=mpl.cm.binary)\n",
        "plt.axis(\"off\")"
      ],
      "execution_count": null,
      "outputs": [
        {
          "output_type": "execute_result",
          "data": {
            "text/plain": [
              "(-0.5, 27.5, 27.5, -0.5)"
            ]
          },
          "metadata": {
            "tags": []
          },
          "execution_count": 4
        },
        {
          "output_type": "display_data",
          "data": {
            "image/png": "[encoded data removed]",
            "text/plain": [
              "<Figure size 432x288 with 1 Axes>"
            ]
          },
          "metadata": {
            "tags": [],
            "needs_background": "light"
          }
        }
      ]
    },
    {
      "cell_type": "code",
      "metadata": {
        "id": "WpRT77-NDUQ-",
        "outputId": "5b6c4186-2e8c-4909-a4f0-bc37ed7b2146",
        "colab": {
          "base_uri": "https://localhost:8080/",
          "height": 337
        }
      },
      "source": [
        "sns.countplot(y)"
      ],
      "execution_count": null,
      "outputs": [
        {
          "output_type": "stream",
          "text": [
            "/usr/local/lib/python3.6/dist-packages/seaborn/_decorators.py:43: FutureWarning: Pass the following variable as a keyword arg: x. From version 0.12, the only valid positional argument will be `data`, and passing other arguments without an explicit keyword will result in an error or misinterpretation.\n",
            "  FutureWarning\n"
          ],
          "name": "stderr"
        },
        {
          "output_type": "execute_result",
          "data": {
            "text/plain": [
              "<matplotlib.axes._subplots.AxesSubplot at 0x7f69dfc9c358>"
            ]
          },
          "metadata": {
            "tags": []
          },
          "execution_count": 5
        },
        {
          "output_type": "display_data",
          "data": {
            "image/png": "[encoded data removed]",
            "text/plain": [
              "<Figure size 432x288 with 1 Axes>"
            ]
          },
          "metadata": {
            "tags": [],
            "needs_background": "light"
          }
        }
      ]
    },
    {
      "cell_type": "markdown",
      "metadata": {
        "id": "n1VS6I_OXGVX"
      },
      "source": [
        "# Data preprocessing"
      ]
    },
    {
      "cell_type": "code",
      "metadata": {
        "id": "o_2Px4-hDqff",
        "outputId": "72448023-4fc8-4624-b557-2bc772e3e61d",
        "colab": {
          "base_uri": "https://localhost:8080/"
        }
      },
      "source": [
        "X_train, X_test, y_train, y_test = train_test_split(X, y, test_size=0.25, random_state=0)\n",
        "print(X_train.shape)\n",
        "print(X_test.shape)"
      ],
      "execution_count": null,
      "outputs": [
        {
          "output_type": "stream",
          "text": [
            "(52500, 784)\n",
            "(17500, 784)\n"
          ],
          "name": "stdout"
        }
      ]
    },
    {
      "cell_type": "markdown",
      "metadata": {
        "id": "ABFk7bDSLU6v"
      },
      "source": [
        "# **Random Forest Regressor**"
      ]
    },
    {
      "cell_type": "markdown",
      "metadata": {
        "id": "kzmuNOEwGmf-"
      },
      "source": [
        "---\n",
        " **Plain Random Forest Regressor**"
      ]
    },
    {
      "cell_type": "code",
      "metadata": {
        "id": "bKsC2rzMGUg1",
        "outputId": "f5671db7-7476-42de-a310-3aae693122d3",
        "colab": {
          "base_uri": "https://localhost:8080/"
        }
      },
      "source": [
        "from sklearn.ensemble import RandomForestRegressor\n",
        "forest_reg = RandomForestRegressor(n_estimators=100, random_state=42, max_depth=None)\n",
        "forest_reg.fit(X_train, y_train)"
      ],
      "execution_count": null,
      "outputs": [
        {
          "output_type": "execute_result",
          "data": {
            "text/plain": [
              "RandomForestRegressor(bootstrap=True, ccp_alpha=0.0, criterion='mse',\n",
              "                      max_depth=None, max_features='auto', max_leaf_nodes=None,\n",
              "                      max_samples=None, min_impurity_decrease=0.0,\n",
              "                      min_impurity_split=None, min_samples_leaf=1,\n",
              "                      min_samples_split=2, min_weight_fraction_leaf=0.0,\n",
              "                      n_estimators=100, n_jobs=None, oob_score=False,\n",
              "                      random_state=42, verbose=0, warm_start=False)"
            ]
          },
          "metadata": {
            "tags": []
          },
          "execution_count": 7
        }
      ]
    },
    {
      "cell_type": "code",
      "metadata": {
        "id": "DsfLIjdsGayk"
      },
      "source": [
        "y_pred_reg_plain  = forest_reg.predict(X_test)"
      ],
      "execution_count": null,
      "outputs": []
    },
    {
      "cell_type": "markdown",
      "metadata": {
        "id": "40GjYaCjGesx"
      },
      "source": [
        "Evaluation Metrics"
      ]
    },
    {
      "cell_type": "code",
      "metadata": {
        "id": "BghIbqDXGesz",
        "outputId": "16110ce0-aa45-4363-f557-342f980a5239",
        "colab": {
          "base_uri": "https://localhost:8080/"
        }
      },
      "source": [
        "from sklearn import metrics\n",
        "print('Mean Absolute Error:', metrics.mean_absolute_error(y_test, y_pred_reg_plain))\n",
        "print('Mean Squared Error:', metrics.mean_squared_error(y_test, y_pred_reg_plain))\n",
        "print('Root Mean Squared Error:', np.sqrt(metrics.mean_squared_error(y_test, y_pred_reg_plain)))"
      ],
      "execution_count": null,
      "outputs": [
        {
          "output_type": "stream",
          "text": [
            "Mean Absolute Error: 0.4812337142857142\n",
            "Mean Squared Error: 0.9303290228571429\n",
            "Root Mean Squared Error: 0.9645356514184134\n"
          ],
          "name": "stdout"
        }
      ]
    },
    {
      "cell_type": "markdown",
      "metadata": {
        "id": "CuHzT_8iGtJV"
      },
      "source": [
        "---\n",
        "**Random Forest Regressor with Randomized Search**"
      ]
    },
    {
      "cell_type": "code",
      "metadata": {
        "id": "UclHNGWjvpbs"
      },
      "source": [
        "from scipy.stats import randint\n",
        " \n",
        " \n",
        "param_distribs  = {\n",
        "        'n_estimators': randint(low=50, high=150),\n",
        "        'max_features': ['auto', 'sqrt']\n",
        "    }\n",
        " \n",
        "forest_reg = RandomForestRegressor(random_state=42, n_jobs=-1)\n",
        "RFreg_random = RandomizedSearchCV(forest_reg, \n",
        "                                  param_distributions=param_distribs,\n",
        "                                  n_iter=10,\n",
        "                                  refit=True,\n",
        "                                  cv=5, \n",
        "                                  scoring='neg_mean_squared_error',               \n",
        "                                  random_state=42)\n",
        "RFreg_random.fit(X_train, y_train)"
      ],
      "execution_count": null,
      "outputs": []
    },
    {
      "cell_type": "code",
      "metadata": {
        "id": "7OUDQ7VefNMs"
      },
      "source": [
        "cvres = RFreg_random.cv_results_\n",
        "for mean_score, params in zip(cvres[\"mean_test_score\"], cvres[\"params\"]):\n",
        "    print(np.sqrt(-mean_score), params)"
      ],
      "execution_count": null,
      "outputs": []
    },
    {
      "cell_type": "code",
      "metadata": {
        "id": "y1Zks53jcorb"
      },
      "source": [
        "RFreg_random.best_params_"
      ],
      "execution_count": null,
      "outputs": []
    },
    {
      "cell_type": "markdown",
      "metadata": {
        "id": "Au3CAN0VLXM0"
      },
      "source": [
        "Prediction\n"
      ]
    },
    {
      "cell_type": "code",
      "metadata": {
        "id": "r8M4B2bzJ-Kf"
      },
      "source": [
        "RFreg_final = RFreg_random.best_estimator_\n",
        "y_pred_reg  = RFreg_final.predict(X_test)"
      ],
      "execution_count": null,
      "outputs": []
    },
    {
      "cell_type": "markdown",
      "metadata": {
        "id": "mMIpCb31XZYt"
      },
      "source": [
        "Evaluation Metrics"
      ]
    },
    {
      "cell_type": "code",
      "metadata": {
        "id": "CLqq0lrfRfhn"
      },
      "source": [
        "from sklearn import metrics\n",
        "print('Mean Absolute Error:', metrics.mean_absolute_error(y_test, y_pred_reg))\n",
        "print('Mean Squared Error:', metrics.mean_squared_error(y_test, y_pred_reg))\n",
        "print('Root Mean Squared Error:', np.sqrt(metrics.mean_squared_error(y_test, y_pred_reg)))"
      ],
      "execution_count": null,
      "outputs": []
    },
    {
      "cell_type": "markdown",
      "metadata": {
        "id": "nX2lREbWT145"
      },
      "source": [
        "# Random Forest Classifier\n",
        "\n"
      ]
    },
    {
      "cell_type": "markdown",
      "metadata": {
        "id": "6mAzA3Ehw2_m"
      },
      "source": [
        "Dataset split"
      ]
    },
    {
      "cell_type": "code",
      "metadata": {
        "id": "gClbOIEPiI1S"
      },
      "source": [
        "X, y = mnist[\"data\"], mnist[\"target\"]\n",
        "X_train, X_test, y_train, y_test = train_test_split(X, y, test_size=0.25, random_state=0)"
      ],
      "execution_count": null,
      "outputs": []
    },
    {
      "cell_type": "markdown",
      "metadata": {
        "id": "-af0fQ7nFMrP"
      },
      "source": [
        "---\n",
        "**Plain Random Forest Classifier**"
      ]
    },
    {
      "cell_type": "code",
      "metadata": {
        "id": "L5z109TUmXwt",
        "outputId": "2db5ef0d-dc82-4e75-c4d1-5c48c1cfbd02",
        "colab": {
          "base_uri": "https://localhost:8080/"
        }
      },
      "source": [
        "from sklearn.ensemble import RandomForestClassifier\n",
        "rfc = RandomForestClassifier(random_state=42, n_jobs=-1, n_estimators=100)\n",
        "rfc.fit(X_train, y_train)"
      ],
      "execution_count": null,
      "outputs": [
        {
          "output_type": "execute_result",
          "data": {
            "text/plain": [
              "RandomForestClassifier(bootstrap=True, ccp_alpha=0.0, class_weight=None,\n",
              "                       criterion='gini', max_depth=None, max_features='auto',\n",
              "                       max_leaf_nodes=None, max_samples=None,\n",
              "                       min_impurity_decrease=0.0, min_impurity_split=None,\n",
              "                       min_samples_leaf=1, min_samples_split=2,\n",
              "                       min_weight_fraction_leaf=0.0, n_estimators=100,\n",
              "                       n_jobs=-1, oob_score=False, random_state=42, verbose=0,\n",
              "                       warm_start=False)"
            ]
          },
          "metadata": {
            "tags": []
          },
          "execution_count": 11
        }
      ]
    },
    {
      "cell_type": "code",
      "metadata": {
        "id": "1K-EQr2-HYSd"
      },
      "source": [
        "y_pred_claPlain = rfc.predict(X_test)"
      ],
      "execution_count": null,
      "outputs": []
    },
    {
      "cell_type": "markdown",
      "metadata": {
        "id": "QwZl29rMGAqv"
      },
      "source": [
        "Evaluation Metrics"
      ]
    },
    {
      "cell_type": "code",
      "metadata": {
        "id": "CORgH_Kdmjwk",
        "outputId": "bcf71962-c60e-40e5-cf38-06523ac28c48",
        "colab": {
          "base_uri": "https://localhost:8080/"
        }
      },
      "source": [
        "from sklearn.metrics import classification_report, confusion_matrix, accuracy_score\n",
        "print(\"Accuracy Score:\", accuracy_score(y_test, y_pred_claPlain))\n",
        "print(\"Confusion Matrix:\\n\", confusion_matrix(y_test,y_pred_claPlain))\n",
        "print(\"Classification Report:\\n\", classification_report(y_test,y_pred_claPlain))"
      ],
      "execution_count": null,
      "outputs": [
        {
          "output_type": "stream",
          "text": [
            "Confusion Matrix:\n",
            " [[1693    0    1    0    2    3    6    0   10    0]\n",
            " [   0 1943   11    5    2    0    1    3    4    2]\n",
            " [   5    2 1741    5    2    1    6    9   12    3]\n",
            " [   3    3   26 1672    0   18    1   15   19    6]\n",
            " [   6    0    1    1 1617    0    7    5    7   32]\n",
            " [   3    4    3   16    2 1522   18    3   12   10]\n",
            " [  10    4    1    0    4   15 1673    0    3    0]\n",
            " [   5    7   27    1   11    0    0 1754    5   27]\n",
            " [   1   11   12    9    4    8    4    2 1646   16]\n",
            " [   5    1    5   22   20    7    3   15   10 1648]]\n",
            "Classification Report:\n",
            "               precision    recall  f1-score   support\n",
            "\n",
            "           0       0.98      0.99      0.98      1715\n",
            "           1       0.98      0.99      0.98      1971\n",
            "           2       0.95      0.97      0.96      1786\n",
            "           3       0.97      0.95      0.96      1763\n",
            "           4       0.97      0.96      0.97      1676\n",
            "           5       0.97      0.96      0.96      1593\n",
            "           6       0.97      0.98      0.98      1710\n",
            "           7       0.97      0.95      0.96      1837\n",
            "           8       0.95      0.96      0.96      1713\n",
            "           9       0.94      0.95      0.95      1736\n",
            "\n",
            "    accuracy                           0.97     17500\n",
            "   macro avg       0.97      0.97      0.97     17500\n",
            "weighted avg       0.97      0.97      0.97     17500\n",
            "\n",
            "Accuracy Score: 0.9662285714285714\n"
          ],
          "name": "stdout"
        }
      ]
    },
    {
      "cell_type": "markdown",
      "metadata": {
        "id": "307jYhwjw2PE"
      },
      "source": [
        "---\n",
        "**Random Forest Classifier with Randomized Search**\n"
      ]
    },
    {
      "cell_type": "code",
      "metadata": {
        "id": "UTJyTAQBT3v_"
      },
      "source": [
        "from sklearn.ensemble import RandomForestClassifier\n",
        "param_distribs  = {\n",
        "        'n_estimators': randint(low=50, high=120),\n",
        "        'max_features': ['auto', 'sqrt']\n",
        "    }\n",
        " \n",
        "forest_cla      = RandomForestClassifier(random_state=42, n_jobs=-1)\n",
        "RFcla_random    = RandomizedSearchCV(forest_cla, \n",
        "                                    param_distributions=param_distribs,\n",
        "                                    n_iter=10,\n",
        "                                    cv=5, \n",
        "                                    scoring='accuracy',      \n",
        "                                    random_state=42)\n",
        "RFcla_random.fit(X_train, y_train)"
      ],
      "execution_count": null,
      "outputs": []
    },
    {
      "cell_type": "code",
      "metadata": {
        "id": "bXAca5xSUPe9",
        "outputId": "5fd4b82a-c7b6-4045-f807-488b5b8a53f6",
        "colab": {
          "base_uri": "https://localhost:8080/"
        }
      },
      "source": [
        "RFcla_random.best_params_"
      ],
      "execution_count": null,
      "outputs": [
        {
          "output_type": "execute_result",
          "data": {
            "text/plain": [
              "{'max_features': 'auto', 'n_estimators': 101}"
            ]
          },
          "metadata": {
            "tags": []
          },
          "execution_count": 16
        }
      ]
    },
    {
      "cell_type": "markdown",
      "metadata": {
        "id": "5dtlxMDHXonn"
      },
      "source": [
        "Prediction"
      ]
    },
    {
      "cell_type": "code",
      "metadata": {
        "id": "yu5jJ3InUghF"
      },
      "source": [
        "RFcla_final = RFcla_random.best_estimator_\n",
        "y_pred_cla  = RFcla_final.predict(X_test)"
      ],
      "execution_count": null,
      "outputs": []
    },
    {
      "cell_type": "markdown",
      "metadata": {
        "id": "BesCcrMNXqSw"
      },
      "source": [
        "Evaluation Metrics"
      ]
    },
    {
      "cell_type": "code",
      "metadata": {
        "id": "nRAz2wQsTqie",
        "outputId": "6c0e74dd-b956-472f-e96f-b286fe9524a6",
        "colab": {
          "base_uri": "https://localhost:8080/"
        }
      },
      "source": [
        "print(\"Accuracy Score:\", accuracy_score(y_test, y_pred_cla))\n",
        "print(\"Confusion Matrix:\\n\", confusion_matrix(y_test,y_pred_cla))\n",
        "print(\"Classification Report:\\n\", classification_report(y_test,y_pred_cla))"
      ],
      "execution_count": null,
      "outputs": [
        {
          "output_type": "stream",
          "text": [
            "Accuracy Score: 0.9662857142857143\n",
            "Confusion Matrix:\n",
            " [[1692    0    2    0    2    3    6    0   10    0]\n",
            " [   0 1942   11    5    3    0    1    3    4    2]\n",
            " [   5    2 1742    5    2    1    5    9   12    3]\n",
            " [   3    3   26 1672    0   18    1   16   18    6]\n",
            " [   5    0    1    1 1618    0    8    5    6   32]\n",
            " [   3    4    3   16    2 1523   17    3   12   10]\n",
            " [  10    4    1    0    4   15 1673    0    3    0]\n",
            " [   4    7   28    0   11    0    0 1755    5   27]\n",
            " [   1   11   12    8    4    8    4    2 1647   16]\n",
            " [   6    1    5   22   20    7    3   16   10 1646]]\n",
            "Classification Report:\n",
            "               precision    recall  f1-score   support\n",
            "\n",
            "           0       0.98      0.99      0.98      1715\n",
            "           1       0.98      0.99      0.98      1971\n",
            "           2       0.95      0.98      0.96      1786\n",
            "           3       0.97      0.95      0.96      1763\n",
            "           4       0.97      0.97      0.97      1676\n",
            "           5       0.97      0.96      0.96      1593\n",
            "           6       0.97      0.98      0.98      1710\n",
            "           7       0.97      0.96      0.96      1837\n",
            "           8       0.95      0.96      0.96      1713\n",
            "           9       0.94      0.95      0.95      1736\n",
            "\n",
            "    accuracy                           0.97     17500\n",
            "   macro avg       0.97      0.97      0.97     17500\n",
            "weighted avg       0.97      0.97      0.97     17500\n",
            "\n"
          ],
          "name": "stdout"
        }
      ]
    }
  ]
}